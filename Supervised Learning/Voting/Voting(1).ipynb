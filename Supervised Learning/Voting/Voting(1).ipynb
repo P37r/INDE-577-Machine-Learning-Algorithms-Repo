{
  "cells": [
    {
      "cell_type": "markdown",
      "metadata": {
        "id": "0huW17M9qzCE"
      },
      "source": [
        "# Introduction"
      ]
    },
    {
      "cell_type": "markdown",
      "metadata": {
        "id": "zDugleK6q3Y_"
      },
      "source": [
        "## What is Voting?"
      ]
    },
    {
      "cell_type": "markdown",
      "metadata": {
        "id": "-p3Jg-9Jq9ve"
      },
      "source": [
        "Voting is an ensemble learning method that aggregates the predictions of a multitude of individual models in order to make a prediction.\n",
        "\n",
        "In Voting, each model can be different, meaning that for a classification task, an ensemble of logistic regression, decision tree, and naive Bayes can be used. Because the result is an aggregate of the results of each of the individual models, the overall result is more robust and does not suffer from the weaknesses of each individual model."
      ]
    },
    {
      "cell_type": "markdown",
      "metadata": {
        "id": "ADneeOx8PK9b"
      },
      "source": [
        "## Hard Voting\n"
      ]
    },
    {
      "cell_type": "markdown",
      "metadata": {
        "id": "-st6MwVBPPIf"
      },
      "source": [
        "In hard voting, each individual model will predict the output and then the majority prediction will be the overall output. For example, if there are 3 models in the ensemble and they predict heads, heads, tails, the output of the voting ensemble will be heads.\n",
        "\n"
      ]
    },
    {
      "cell_type": "markdown",
      "metadata": {
        "id": "oGzMJjjRPjI4"
      },
      "source": [
        "## Soft Voting"
      ]
    },
    {
      "cell_type": "markdown",
      "metadata": {
        "id": "tAvfYVZdPkj7"
      },
      "source": [
        "In contrast to hard voting, the outputs of each of the individual models in soft voting is a probability. The final prediction of the soft voting ensemble is then the prediction with the highest averag probability. For example, if there are 4 models in the ensemble and 2 models predict it will rain with probability 0.4 and 0.5 respectively and 2 models predict sunshine with probability 0.5 and 0.5, then the prediction of the ensemble will be sunshine because it has a higher average probability."
      ]
    },
    {
      "cell_type": "markdown",
      "metadata": {
        "id": "JdBZg1Oaq2CP"
      },
      "source": [
        "# Code"
      ]
    },
    {
      "cell_type": "code",
      "execution_count": null,
      "metadata": {
        "colab": {
          "base_uri": "https://localhost:8080/",
          "height": 72
        },
        "id": "-Mcf8075atWQ",
        "outputId": "0213e282-b6dc-408b-e04d-50ae60fbf487"
      },
      "outputs": [
        {
          "name": "stdout",
          "output_type": "stream",
          "text": [
            "Requirement already satisfied: imbalanced-learn in c:\\program files\\python312\\lib\\site-packages (0.13.0)\n",
            "Requirement already satisfied: numpy<3,>=1.24.3 in c:\\program files\\python312\\lib\\site-packages (from imbalanced-learn) (2.2.5)\n",
            "Requirement already satisfied: scipy<2,>=1.10.1 in c:\\program files\\python312\\lib\\site-packages (from imbalanced-learn) (1.15.2)\n",
            "Requirement already satisfied: scikit-learn<2,>=1.3.2 in c:\\program files\\python312\\lib\\site-packages (from imbalanced-learn) (1.6.1)\n",
            "Requirement already satisfied: sklearn-compat<1,>=0.1 in c:\\program files\\python312\\lib\\site-packages (from imbalanced-learn) (0.1.3)\n",
            "Requirement already satisfied: joblib<2,>=1.1.1 in c:\\program files\\python312\\lib\\site-packages (from imbalanced-learn) (1.4.2)\n",
            "Requirement already satisfied: threadpoolctl<4,>=2.0.0 in c:\\program files\\python312\\lib\\site-packages (from imbalanced-learn) (3.6.0)\n"
          ]
        },
        {
          "name": "stderr",
          "output_type": "stream",
          "text": [
            "\n",
            "[notice] A new release of pip is available: 24.0 -> 25.1.1\n",
            "[notice] To update, run: python.exe -m pip install --upgrade pip\n"
          ]
        },
        {
          "name": "stdout",
          "output_type": "stream",
          "text": [
            "Requirement already satisfied: pandas in c:\\program files\\python312\\lib\\site-packages (2.2.3)\n",
            "Requirement already satisfied: numpy>=1.26.0 in c:\\program files\\python312\\lib\\site-packages (from pandas) (2.2.5)\n",
            "Requirement already satisfied: python-dateutil>=2.8.2 in c:\\users\\pjs5\\appdata\\roaming\\python\\python312\\site-packages (from pandas) (2.9.0.post0)\n",
            "Requirement already satisfied: pytz>=2020.1 in c:\\program files\\python312\\lib\\site-packages (from pandas) (2025.2)\n",
            "Requirement already satisfied: tzdata>=2022.7 in c:\\program files\\python312\\lib\\site-packages (from pandas) (2025.2)\n",
            "Requirement already satisfied: six>=1.5 in c:\\users\\pjs5\\appdata\\roaming\\python\\python312\\site-packages (from python-dateutil>=2.8.2->pandas) (1.17.0)\n"
          ]
        },
        {
          "name": "stderr",
          "output_type": "stream",
          "text": [
            "\n",
            "[notice] A new release of pip is available: 24.0 -> 25.1.1\n",
            "[notice] To update, run: python.exe -m pip install --upgrade pip\n"
          ]
        },
        {
          "name": "stdout",
          "output_type": "stream",
          "text": [
            "Collecting sklearn\n",
            "  Using cached sklearn-0.0.post12.tar.gz (2.6 kB)\n",
            "  Installing build dependencies: started\n",
            "  Installing build dependencies: finished with status 'done'\n",
            "  Getting requirements to build wheel: started\n",
            "  Getting requirements to build wheel: finished with status 'error'\n"
          ]
        },
        {
          "name": "stderr",
          "output_type": "stream",
          "text": [
            "  error: subprocess-exited-with-error\n",
            "  \n",
            "  × Getting requirements to build wheel did not run successfully.\n",
            "  │ exit code: 1\n",
            "  ╰─> [15 lines of output]\n",
            "      The 'sklearn' PyPI package is deprecated, use 'scikit-learn'\n",
            "      rather than 'sklearn' for pip commands.\n",
            "      \n",
            "      Here is how to fix this error in the main use cases:\n",
            "      - use 'pip install scikit-learn' rather than 'pip install sklearn'\n",
            "      - replace 'sklearn' by 'scikit-learn' in your pip requirements files\n",
            "        (requirements.txt, setup.py, setup.cfg, Pipfile, etc ...)\n",
            "      - if the 'sklearn' package is used by one of your dependencies,\n",
            "        it would be great if you take some time to track which package uses\n",
            "        'sklearn' instead of 'scikit-learn' and report it to their issue tracker\n",
            "      - as a last resort, set the environment variable\n",
            "        SKLEARN_ALLOW_DEPRECATED_SKLEARN_PACKAGE_INSTALL=True to avoid this error\n",
            "      \n",
            "      More information is available at\n",
            "      https://github.com/scikit-learn/sklearn-pypi-package\n",
            "      [end of output]\n",
            "  \n",
            "  note: This error originates from a subprocess, and is likely not a problem with pip.\n",
            "error: subprocess-exited-with-error\n",
            "\n",
            "× Getting requirements to build wheel did not run successfully.\n",
            "│ exit code: 1\n",
            "╰─> See above for output.\n",
            "\n",
            "note: This error originates from a subprocess, and is likely not a problem with pip.\n",
            "\n",
            "[notice] A new release of pip is available: 24.0 -> 25.1.1\n",
            "[notice] To update, run: python.exe -m pip install --upgrade pip\n"
          ]
        },
        {
          "name": "stdout",
          "output_type": "stream",
          "text": [
            "Requirement already satisfied: numpy in c:\\program files\\python312\\lib\\site-packages (2.2.5)\n"
          ]
        },
        {
          "name": "stderr",
          "output_type": "stream",
          "text": [
            "\n",
            "[notice] A new release of pip is available: 24.0 -> 25.1.1\n",
            "[notice] To update, run: python.exe -m pip install --upgrade pip\n"
          ]
        }
      ],
      "source": [
        "# !pip install -U imbalanced-learn\n",
        "# !pip install pandas \n",
        "# !pip install sklearn\n",
        "# !pip install numpy\n",
        "# !pip install seaborn\n",
        "\n",
        "from imblearn.over_sampling import SMOTE\n",
        "import pandas as pd\n",
        "import numpy as np\n",
        "from sklearn.model_selection import train_test_split\n",
        "from sklearn.preprocessing import StandardScaler\n",
        "from sklearn.ensemble import VotingClassifier\n",
        "from sklearn.linear_model import LogisticRegression\n",
        "from sklearn.tree import DecisionTreeClassifier\n",
        "from sklearn.naive_bayes import GaussianNB\n",
        "from sklearn.metrics import accuracy_score\n",
        "from sklearn.metrics import accuracy_score, confusion_matrix\n",
        "import seaborn as sns\n",
        "import matplotlib.pyplot as plt"
      ]
    },
    {
      "cell_type": "code",
      "execution_count": null,
      "metadata": {
        "colab": {
          "base_uri": "https://localhost:8080/",
          "height": 211
        },
        "id": "gurx8nplqkxr",
        "outputId": "58b28842-833b-4603-afdd-704e8f060623"
      },
      "outputs": [
        {
          "name": "stdout",
          "output_type": "stream",
          "text": [
            "Voting Classifier Accuracy: 0.7917\n"
          ]
        }
      ],
      "source": [
        "filename = r\"C:\\Users\\pjs5\\Downloads\\diabetes_dataset_with_notes.csv\"\n",
        "df = pd.read_csv(filename)\n",
        "\n",
        "\n",
        "categorical_cols = df.select_dtypes(include=['object', 'category']).columns\n",
        "df_numeric = pd.get_dummies(df, columns=categorical_cols, drop_first=True)\n",
        "\n",
        "X = df_numeric.drop(columns=['diabetes']) \n",
        "y = df_numeric['diabetes']\n",
        "\n",
        "X_train, X_test, y_train, y_test = train_test_split(\n",
        "    X, y, test_size=0.2, random_state=42, stratify=y\n",
        ")\n",
        "\n",
        "scaler = StandardScaler()\n",
        "X_train_scaled = scaler.fit_transform(X_train)\n",
        "X_test_scaled = scaler.transform(X_test)\n",
        "\n",
        "smote = SMOTE(random_state=14)\n",
        "X_train_balanced, y_train_balanced = smote.fit_resample(X_train_scaled, y_train)\n",
        "\n",
        "log_reg = LogisticRegression(random_state=42, class_weight={0: 1, 1: 2})\n",
        "decision_tree = DecisionTreeClassifier(random_state=42, max_depth=4, class_weight={0: 1, 1: 2})\n",
        "naive_bayes = GaussianNB()  \n",
        "\n",
        "voting_clf = VotingClassifier(\n",
        "    estimators=[\n",
        "        ('lr', log_reg),\n",
        "        ('dt', decision_tree),\n",
        "        ('nb', naive_bayes)\n",
        "    ],\n",
        "    voting='hard' \n",
        ")\n",
        "\n",
        "voting_clf.fit(X_train_balanced, y_train_balanced)\n",
        "\n",
        "\n",
        "y_pred = voting_clf.predict(X_test_scaled)\n",
        "accuracy = accuracy_score(y_test, y_pred)\n",
        "print(f'Voting Classifier Accuracy: {accuracy:.4f}')\n"
      ]
    },
    {
      "cell_type": "code",
      "execution_count": 9,
      "metadata": {
        "colab": {
          "base_uri": "https://localhost:8080/",
          "height": 410
        },
        "id": "vX-Di5Znni-x",
        "outputId": "37adae08-e820-47b5-fb81-2b926ad97d49"
      },
      "outputs": [
        {
          "name": "stdout",
          "output_type": "stream",
          "text": [
            "Collecting seaborn\n",
            "  Downloading seaborn-0.13.2-py3-none-any.whl.metadata (5.4 kB)\n",
            "Requirement already satisfied: numpy!=1.24.0,>=1.20 in c:\\program files\\python312\\lib\\site-packages (from seaborn) (2.2.5)\n",
            "Requirement already satisfied: pandas>=1.2 in c:\\program files\\python312\\lib\\site-packages (from seaborn) (2.2.3)\n",
            "Collecting matplotlib!=3.6.1,>=3.4 (from seaborn)\n",
            "  Downloading matplotlib-3.10.1-cp312-cp312-win_amd64.whl.metadata (11 kB)\n",
            "Collecting contourpy>=1.0.1 (from matplotlib!=3.6.1,>=3.4->seaborn)\n",
            "  Downloading contourpy-1.3.2-cp312-cp312-win_amd64.whl.metadata (5.5 kB)\n",
            "Collecting cycler>=0.10 (from matplotlib!=3.6.1,>=3.4->seaborn)\n",
            "  Downloading cycler-0.12.1-py3-none-any.whl.metadata (3.8 kB)\n",
            "Collecting fonttools>=4.22.0 (from matplotlib!=3.6.1,>=3.4->seaborn)\n",
            "  Downloading fonttools-4.57.0-cp312-cp312-win_amd64.whl.metadata (104 kB)\n",
            "     ---------------------------------------- 0.0/104.6 kB ? eta -:--:--\n",
            "     -------------- ---------------------- 41.0/104.6 kB 991.0 kB/s eta 0:00:01\n",
            "     -------------------------------------- 104.6/104.6 kB 1.5 MB/s eta 0:00:00\n",
            "Collecting kiwisolver>=1.3.1 (from matplotlib!=3.6.1,>=3.4->seaborn)\n",
            "  Downloading kiwisolver-1.4.8-cp312-cp312-win_amd64.whl.metadata (6.3 kB)\n",
            "Requirement already satisfied: packaging>=20.0 in c:\\users\\pjs5\\appdata\\roaming\\python\\python312\\site-packages (from matplotlib!=3.6.1,>=3.4->seaborn) (25.0)\n",
            "Collecting pillow>=8 (from matplotlib!=3.6.1,>=3.4->seaborn)\n",
            "  Downloading pillow-11.2.1-cp312-cp312-win_amd64.whl.metadata (9.1 kB)\n",
            "Collecting pyparsing>=2.3.1 (from matplotlib!=3.6.1,>=3.4->seaborn)\n",
            "  Downloading pyparsing-3.2.3-py3-none-any.whl.metadata (5.0 kB)\n",
            "Requirement already satisfied: python-dateutil>=2.7 in c:\\users\\pjs5\\appdata\\roaming\\python\\python312\\site-packages (from matplotlib!=3.6.1,>=3.4->seaborn) (2.9.0.post0)\n",
            "Requirement already satisfied: pytz>=2020.1 in c:\\program files\\python312\\lib\\site-packages (from pandas>=1.2->seaborn) (2025.2)\n",
            "Requirement already satisfied: tzdata>=2022.7 in c:\\program files\\python312\\lib\\site-packages (from pandas>=1.2->seaborn) (2025.2)\n",
            "Requirement already satisfied: six>=1.5 in c:\\users\\pjs5\\appdata\\roaming\\python\\python312\\site-packages (from python-dateutil>=2.7->matplotlib!=3.6.1,>=3.4->seaborn) (1.17.0)\n",
            "Downloading seaborn-0.13.2-py3-none-any.whl (294 kB)\n",
            "   ---------------------------------------- 0.0/294.9 kB ? eta -:--:--\n",
            "   --------------------------------------- 294.9/294.9 kB 17.8 MB/s eta 0:00:00\n",
            "Downloading matplotlib-3.10.1-cp312-cp312-win_amd64.whl (8.1 MB)\n",
            "   ---------------------------------------- 0.0/8.1 MB ? eta -:--:--\n",
            "   -------- ------------------------------- 1.6/8.1 MB 34.2 MB/s eta 0:00:01\n",
            "   ----------------------- ---------------- 4.6/8.1 MB 49.3 MB/s eta 0:00:01\n",
            "   ---------------------------------------  8.1/8.1 MB 64.4 MB/s eta 0:00:01\n",
            "   ---------------------------------------- 8.1/8.1 MB 51.3 MB/s eta 0:00:00\n",
            "Downloading contourpy-1.3.2-cp312-cp312-win_amd64.whl (223 kB)\n",
            "   ---------------------------------------- 0.0/223.0 kB ? eta -:--:--\n",
            "   ---------------------------------------- 223.0/223.0 kB ? eta 0:00:00\n",
            "Downloading cycler-0.12.1-py3-none-any.whl (8.3 kB)\n",
            "Downloading fonttools-4.57.0-cp312-cp312-win_amd64.whl (2.2 MB)\n",
            "   ---------------------------------------- 0.0/2.2 MB ? eta -:--:--\n",
            "   ---------------------------------------- 2.2/2.2 MB 70.4 MB/s eta 0:00:00\n",
            "Downloading kiwisolver-1.4.8-cp312-cp312-win_amd64.whl (71 kB)\n",
            "   ---------------------------------------- 0.0/71.9 kB ? eta -:--:--\n",
            "   ---------------------------------------- 71.9/71.9 kB ? eta 0:00:00\n",
            "Downloading pillow-11.2.1-cp312-cp312-win_amd64.whl (2.7 MB)\n",
            "   ---------------------------------------- 0.0/2.7 MB ? eta -:--:--\n",
            "   ---------------------------------------  2.7/2.7 MB 177.5 MB/s eta 0:00:01\n",
            "   ---------------------------------------- 2.7/2.7 MB 43.0 MB/s eta 0:00:00\n",
            "Downloading pyparsing-3.2.3-py3-none-any.whl (111 kB)\n",
            "   ---------------------------------------- 0.0/111.1 kB ? eta -:--:--\n",
            "   ---------------------------------------- 111.1/111.1 kB 6.3 MB/s eta 0:00:00\n",
            "Installing collected packages: pyparsing, pillow, kiwisolver, fonttools, cycler, contourpy, matplotlib, seaborn\n",
            "Successfully installed contourpy-1.3.2 cycler-0.12.1 fonttools-4.57.0 kiwisolver-1.4.8 matplotlib-3.10.1 pillow-11.2.1 pyparsing-3.2.3 seaborn-0.13.2\n"
          ]
        },
        {
          "name": "stderr",
          "output_type": "stream",
          "text": [
            "\n",
            "[notice] A new release of pip is available: 24.0 -> 25.1.1\n",
            "[notice] To update, run: python.exe -m pip install --upgrade pip\n"
          ]
        },
        {
          "data": {
            "image/png": "[encoded data removed]",
            "text/plain": [
              "<Figure size 600x400 with 2 Axes>"
            ]
          },
          "metadata": {},
          "output_type": "display_data"
        }
      ],
      "source": [
        "conf_matrix = confusion_matrix(y_test, y_pred)\n",
        "plt.figure(figsize=(6, 4))\n",
        "sns.heatmap(conf_matrix, annot=True, fmt='d', cmap='Blues',\n",
        "            xticklabels=['No Diabetes', 'Diabetes'],\n",
        "            yticklabels=['No Diabetes', 'Diabetes'])\n",
        "plt.xlabel('Predicted')\n",
        "plt.ylabel('Actual')\n",
        "plt.title('Confusion Matrix')\n",
        "plt.show()"
      ]
    },
    {
      "cell_type": "markdown",
      "metadata": {},
      "source": [
        "From the confusion matrix we can see that the model is quite accurate in predicting whether somebody as diabetes (correctly identifying if a person with diabetes has diabetes 94.6% of the time), While this is not as accurate as the random forest model, this voting classifier only has 3 models while the random forest has 100 (it has 100 decision tree estimators). The combination of 3 unique classifiers allows for an accurate model that is easier to train because it is smaller."
      ]
    }
  ],
  "metadata": {
    "colab": {
      "provenance": []
    },
    "kernelspec": {
      "display_name": "Python 3",
      "name": "python3"
    },
    "language_info": {
      "codemirror_mode": {
        "name": "ipython",
        "version": 3
      },
      "file_extension": ".py",
      "mimetype": "text/x-python",
      "name": "python",
      "nbconvert_exporter": "python",
      "pygments_lexer": "ipython3",
      "version": "3.12.3"
    }
  },
  "nbformat": 4,
  "nbformat_minor": 0
}
