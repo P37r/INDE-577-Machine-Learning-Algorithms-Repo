{
  "cells": [
    {
      "cell_type": "markdown",
      "metadata": {
        "id": "0huW17M9qzCE"
      },
      "source": [
        "# Introduction"
      ]
    },
    {
      "cell_type": "markdown",
      "metadata": {
        "id": "zDugleK6q3Y_"
      },
      "source": [
        "## What is Voting?"
      ]
    },
    {
      "cell_type": "markdown",
      "metadata": {
        "id": "-p3Jg-9Jq9ve"
      },
      "source": [
        "Voting is an ensemble learning method that aggregates the predictions of a multitude of individual models in order to make a prediction.\n",
        "\n",
        "In Voting, each model can be different, meaning that for a classification task, an ensemble of logistic regression, decision tree, and naive Bayes can be used. Because the result is an aggregate of the results of each of the individual models, the overall result is more robust and does not suffer from the weaknesses of each individual model."
      ]
    },
    {
      "cell_type": "markdown",
      "metadata": {
        "id": "ADneeOx8PK9b"
      },
      "source": [
        "## Hard Voting\n"
      ]
    },
    {
      "cell_type": "markdown",
      "metadata": {
        "id": "-st6MwVBPPIf"
      },
      "source": [
        "In hard voting, each individual model will predict the output and then the majority prediction will be the overall output. For example, if there are 3 models in the ensemble and they predict heads, heads, tails, the output of the voting ensemble will be heads.\n",
        "\n"
      ]
    },
    {
      "cell_type": "markdown",
      "metadata": {
        "id": "oGzMJjjRPjI4"
      },
      "source": [
        "## Soft Voting"
      ]
    },
    {
      "cell_type": "markdown",
      "metadata": {
        "id": "tAvfYVZdPkj7"
      },
      "source": [
        "In contrast to hard voting, the outputs of each of the individual models in soft voting is a probability. The final prediction of the soft voting ensemble is then the prediction with the highest averag probability. For example, if there are 4 models in the ensemble and 2 models predict it will rain with probability 0.4 and 0.5 respectively and 2 models predict sunshine with probability 0.5 and 0.5, then the prediction of the ensemble will be sunshine because it has a higher average probability."
      ]
    },
    {
      "cell_type": "markdown",
      "metadata": {
        "id": "JdBZg1Oaq2CP"
      },
      "source": [
        "# Code"
      ]
    },
    {
      "cell_type": "code",
      "execution_count": null,
      "metadata": {
        "colab": {
          "base_uri": "https://localhost:8080/",
          "height": 72
        },
        "id": "-Mcf8075atWQ",
        "outputId": "0213e282-b6dc-408b-e04d-50ae60fbf487"
      },
      "outputs": [],
      "source": [
        "# !pip install -U imbalanced-learn\n",
        "# !pip install pandas \n",
        "# !pip install sklearn\n",
        "# !pip install numpy\n",
        "# !pip install seaborn\n",
        "\n",
        "from imblearn.over_sampling import SMOTE\n",
        "import pandas as pd\n",
        "import numpy as np\n",
        "from sklearn.model_selection import train_test_split\n",
        "from sklearn.preprocessing import StandardScaler\n",
        "from sklearn.ensemble import VotingClassifier\n",
        "from sklearn.linear_model import LogisticRegression\n",
        "from sklearn.tree import DecisionTreeClassifier\n",
        "from sklearn.naive_bayes import GaussianNB\n",
        "from sklearn.metrics import accuracy_score\n",
        "from sklearn.metrics import accuracy_score, confusion_matrix\n",
        "import seaborn as sns\n",
        "import matplotlib.pyplot as plt"
      ]
    },
    {
      "cell_type": "code",
      "execution_count": null,
      "metadata": {
        "colab": {
          "base_uri": "https://localhost:8080/",
          "height": 211
        },
        "id": "gurx8nplqkxr",
        "outputId": "58b28842-833b-4603-afdd-704e8f060623"
      },
      "outputs": [
        {
          "name": "stdout",
          "output_type": "stream",
          "text": [
            "Voting Classifier Accuracy: 0.7917\n"
          ]
        }
      ],
      "source": [
        "filename = r\"C:\\Users\\pjs5\\Downloads\\diabetes_dataset_with_notes.csv\"\n",
        "df = pd.read_csv(filename)\n",
        "\n",
        "\n",
        "categorical_cols = df.select_dtypes(include=['object', 'category']).columns\n",
        "df_numeric = pd.get_dummies(df, columns=categorical_cols, drop_first=True)\n",
        "\n",
        "X = df_numeric.drop(columns=['diabetes']) \n",
        "y = df_numeric['diabetes']\n",
        "\n",
        "X_train, X_test, y_train, y_test = train_test_split(\n",
        "    X, y, test_size=0.2, random_state=42, stratify=y\n",
        ")\n",
        "\n",
        "scaler = StandardScaler()\n",
        "X_train_scaled = scaler.fit_transform(X_train)\n",
        "X_test_scaled = scaler.transform(X_test)\n",
        "\n",
        "smote = SMOTE(random_state=14)\n",
        "X_train_balanced, y_train_balanced = smote.fit_resample(X_train_scaled, y_train)\n",
        "\n",
        "log_reg = LogisticRegression(random_state=42, class_weight={0: 1, 1: 2})\n",
        "decision_tree = DecisionTreeClassifier(random_state=42, max_depth=4, class_weight={0: 1, 1: 2})\n",
        "naive_bayes = GaussianNB()  \n",
        "\n",
        "voting_clf = VotingClassifier(\n",
        "    estimators=[\n",
        "        ('lr', log_reg),\n",
        "        ('dt', decision_tree),\n",
        "        ('nb', naive_bayes)\n",
        "    ],\n",
        "    voting='hard' \n",
        ")\n",
        "\n",
        "voting_clf.fit(X_train_balanced, y_train_balanced)\n",
        "\n",
        "\n",
        "y_pred = voting_clf.predict(X_test_scaled)\n",
        "accuracy = accuracy_score(y_test, y_pred)\n",
        "print(f'Voting Classifier Accuracy: {accuracy:.4f}')\n"
      ]
    },
    {
      "cell_type": "code",
      "execution_count": null,
      "metadata": {
        "colab": {
          "base_uri": "https://localhost:8080/",
          "height": 410
        },
        "id": "vX-Di5Znni-x",
        "outputId": "37adae08-e820-47b5-fb81-2b926ad97d49"
      },
      "outputs": [],
      "source": [
        "conf_matrix = confusion_matrix(y_test, y_pred)\n",
        "plt.figure(figsize=(6, 4))\n",
        "sns.heatmap(conf_matrix, annot=True, fmt='d', cmap='Blues',\n",
        "            xticklabels=['No Diabetes', 'Diabetes'],\n",
        "            yticklabels=['No Diabetes', 'Diabetes'])\n",
        "plt.xlabel('Predicted')\n",
        "plt.ylabel('Actual')\n",
        "plt.title('Confusion Matrix')\n",
        "plt.show()"
      ]
    },
    {
      "attachments": {
        "image.png": {
          "image/png": "[encoded data removed]"
        }
      },
      "cell_type": "markdown",
      "metadata": {},
      "source": [
        "![image.png](attachment:image.png)"
      ]
    },
    {
      "cell_type": "markdown",
      "metadata": {},
      "source": [
        "From the confusion matrix we can see that the model is quite accurate in predicting whether somebody as diabetes (correctly identifying if a person with diabetes has diabetes 94.6% of the time), While this is not as accurate as the random forest model, this voting classifier only has 3 models while the random forest has 100 (it has 100 decision tree estimators). The combination of 3 unique classifiers allows for an accurate model that is easier to train because it is smaller."
      ]
    }
  ],
  "metadata": {
    "colab": {
      "provenance": []
    },
    "kernelspec": {
      "display_name": "Python 3",
      "name": "python3"
    },
    "language_info": {
      "codemirror_mode": {
        "name": "ipython",
        "version": 3
      },
      "file_extension": ".py",
      "mimetype": "text/x-python",
      "name": "python",
      "nbconvert_exporter": "python",
      "pygments_lexer": "ipython3",
      "version": "3.12.3"
    }
  },
  "nbformat": 4,
  "nbformat_minor": 0
}
